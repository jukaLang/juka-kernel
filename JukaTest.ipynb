{
 "cells": [
  {
   "cell_type": "code",
   "execution_count": 10,
   "id": "cbf29304",
   "metadata": {},
   "outputs": [
    {
     "name": "stdout",
     "output_type": "stream",
     "text": [
      "Hello\n",
      "World\n",
      "It works! It works!\n",
      "It works! It works!\n",
      "\n"
     ]
    }
   ],
   "source": [
    "func x() = {\n",
    "    printLine(\"Hello\");\n",
    "}\n",
    "\n",
    "func y() = {\n",
    "    printLine(\"World\");\n",
    "}\n",
    "\n",
    "func z() = {\n",
    "    printLine(\"It works! It works!\");\n",
    "}\n",
    "\n",
    "x();\n",
    "y();\n",
    "z();\n",
    "z();"
   ]
  },
  {
   "cell_type": "code",
   "execution_count": 11,
   "id": "64a7275e",
   "metadata": {},
   "outputs": [
    {
     "name": "stdout",
     "output_type": "stream",
     "text": [
      "Error compiling Something went wrong visitng\n"
     ]
    }
   ],
   "source": [
    "func broken() = {\n",
    "  broken_call();\n",
    "}\n",
    "broken();"
   ]
  },
  {
   "cell_type": "code",
   "execution_count": null,
   "id": "d95165f2",
   "metadata": {},
   "outputs": [],
   "source": []
  }
 ],
 "metadata": {
  "kernelspec": {
   "display_name": "Juka",
   "language": "text",
   "name": "juka"
  },
  "language_info": {
   "file_extension": ".txt",
   "mimetype": "text/plain",
   "name": "Any text"
  }
 },
 "nbformat": 4,
 "nbformat_minor": 5
}
